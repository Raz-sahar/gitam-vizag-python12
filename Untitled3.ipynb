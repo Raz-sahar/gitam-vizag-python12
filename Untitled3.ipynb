{
 "cells": [
  {
   "cell_type": "code",
   "execution_count": 11,
   "metadata": {},
   "outputs": [
    {
     "name": "stdout",
     "output_type": "stream",
     "text": [
      "[1, 2, 68, 3, 4, 566, 66, 23, 4]\n",
      "[1, 2, 3, 4, 4, 23, 66, 68]\n",
      "[1, 3, 4, 4, 23, 66, 68]\n",
      "[1, 3, 4, 4, 23, 66, 68, 1, 55, 44, 77, 8866, 5, 5]\n"
     ]
    }
   ],
   "source": [
    "li =[1,2,3,4,566,66]\n",
    "li.append(23)\n",
    "li.insert(2,68)\n",
    "li.append(4)\n",
    "print(li)\n",
    "li.count(4)\n",
    "li.sort()\n",
    "li.pop()\n",
    "print(li)\n",
    "li.pop(1)\n",
    "print(li)\n",
    "li1 =[1,55,44,77,8866,5,5]\n",
    "li.extend(li1)\n",
    "li.sort\n",
    "print(li)\n",
    "\n"
   ]
  },
  {
   "cell_type": "code",
   "execution_count": 18,
   "metadata": {},
   "outputs": [
    {
     "name": "stdout",
     "output_type": "stream",
     "text": [
      "332\n",
      "33\n"
     ]
    }
   ],
   "source": [
    "\n",
    "def largeNumber(li):\n",
    "    li.sort()\n",
    "    return li[-1]\n",
    "def genericLarg(li,n):\n",
    "    li.sort()\n",
    "    return li[-n]\n",
    "li = [12,3,4,33,44,23,332]\n",
    "print(largeNumber(li))\n",
    "print(genericLarg(li,3))"
   ]
  },
  {
   "cell_type": "code",
   "execution_count": 17,
   "metadata": {},
   "outputs": [
    {
     "name": "stdout",
     "output_type": "stream",
     "text": [
      "[0]\n",
      "19\n"
     ]
    }
   ],
   "source": [
    "#funtion to find least and Generic least number from the list\n",
    "def leastNumber(li):\n",
    "    li.sort()\n",
    "    return[0]\n",
    "def genericleastNumber(li,n):\n",
    "    li.sort()\n",
    "    return li[n-1]\n",
    "li = [19,1,25,6,9,45,22]\n",
    "print(leastNumber(li))\n",
    "print(genericleastNumber(li,4))"
   ]
  },
  {
   "cell_type": "code",
   "execution_count": null,
   "metadata": {},
   "outputs": [],
   "source": [
    "def createFile(filename):\n",
    "    f = open(filename,'w')\n",
    "    for i in range(10):\n",
    "        f.write('this is %d lin \\n'%i)\n",
    "    print('file is successfully created and data has been inserted')\n",
    "    return\n",
    "createFile('data.txt')\n"
   ]
  },
  {
   "cell_type": "code",
   "execution_count": null,
   "metadata": {},
   "outputs": [],
   "source": [
    "pwd"
   ]
  },
  {
   "cell_type": "code",
   "execution_count": null,
   "metadata": {},
   "outputs": [],
   "source": [
    "def createFile(filename):\n",
    "    f = open(filename,'w')\n",
    "    for i in range(10):\n",
    "        f.write('gitam vizag python training center')\n",
    "    print('file is successfully created and data has been inserted')\n",
    "    return\n",
    "createFile('data.txt')"
   ]
  },
  {
   "cell_type": "code",
   "execution_count": null,
   "metadata": {},
   "outputs": [],
   "source": [
    "#fuction to read the file \n",
    "def readFileData(filename):\n",
    "f =open(filename,'r')\n",
    "        if f.mode == 'r':\n",
    "            a=f.read()\n",
    "            print(a)\n",
    "        f.close()\n",
    "        return\n",
    "readFileData('data.txt')\n",
    "s1 ='python programming'\n",
    "print(s1.split())\n",
    "            "
   ]
  },
  {
   "cell_type": "code",
   "execution_count": null,
   "metadata": {},
   "outputs": [],
   "source": [
    "\n",
    "def wordCount(filename):\n",
    "    with open(filename,'r') as f:\n",
    "        if f.mode == 'r':\n",
    "            a= f.read()\n",
    "            li = a.split()\n",
    "    return len(li)\n",
    "    wordCount('data.txt')"
   ]
  },
  {
   "cell_type": "code",
   "execution_count": null,
   "metadata": {},
   "outputs": [],
   "source": []
  }
 ],
 "metadata": {
  "kernelspec": {
   "display_name": "Python 3",
   "language": "python",
   "name": "python3"
  },
  "language_info": {
   "codemirror_mode": {
    "name": "ipython",
    "version": 3
   },
   "file_extension": ".py",
   "mimetype": "text/x-python",
   "name": "python",
   "nbconvert_exporter": "python",
   "pygments_lexer": "ipython3",
   "version": "3.7.3"
  }
 },
 "nbformat": 4,
 "nbformat_minor": 2
}
