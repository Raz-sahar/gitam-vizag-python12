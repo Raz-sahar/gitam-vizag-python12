{
 "cells": [
  {
   "cell_type": "code",
   "execution_count": 1,
   "metadata": {},
   "outputs": [
    {
     "name": "stdout",
     "output_type": "stream",
     "text": [
      "1\n",
      "8\n",
      "7\n",
      "5\n",
      "4\n",
      "[6, 7, 5, 4, 4, 3]\n"
     ]
    }
   ],
   "source": [
    "# List in Python\n",
    "li = [1,8,6,7,5,4,4,3]\n",
    "print(li[0])\n",
    "print(li[1])\n",
    "print(li[3])\n",
    "print(li[4])\n",
    "print(li[-2])\n",
    "print(li[2:])"
   ]
  },
  {
   "cell_type": "code",
   "execution_count": 2,
   "metadata": {},
   "outputs": [
    {
     "name": "stdout",
     "output_type": "stream",
     "text": [
      "['Gitam', 3838, 334, 34, 344, 'vizag']\n",
      "['Gitam', 1234, 334, 34, 344, 'vizag']\n",
      "['Gitam', 1234, 334, 344, 'vizag']\n"
     ]
    }
   ],
   "source": [
    "li = ['Gitam',3838,334,34,344,'vizag']\n",
    "print(li)\n",
    "li[1] = 1234\n",
    "print(li)\n",
    "del li[3]\n",
    "print (li)"
   ]
  },
  {
   "cell_type": "code",
   "execution_count": 3,
   "metadata": {},
   "outputs": [
    {
     "name": "stdout",
     "output_type": "stream",
     "text": [
      "5\n",
      "[1, 2, 3, 4, 5, 1, 2, 3, 4, 5]\n",
      "True\n"
     ]
    }
   ],
   "source": [
    "li = [1,2,3,4,5]\n",
    "print(len(li))\n",
    "print(li *2)\n",
    "print(4 in li)"
   ]
  },
  {
   "cell_type": "code",
   "execution_count": 4,
   "metadata": {},
   "outputs": [
    {
     "name": "stdout",
     "output_type": "stream",
     "text": [
      "4\n",
      "1\n",
      "10\n",
      "2\n"
     ]
    }
   ],
   "source": [
    "li =[1,2,3,4]\n",
    "print(max(li))\n",
    "print(min(li))\n",
    "print(sum(li))\n",
    "print(sum(li)//len(li))"
   ]
  },
  {
   "cell_type": "code",
   "execution_count": null,
   "metadata": {},
   "outputs": [],
   "source": []
  }
 ],
 "metadata": {
  "kernelspec": {
   "display_name": "Python 3",
   "language": "python",
   "name": "python3"
  },
  "language_info": {
   "codemirror_mode": {
    "name": "ipython",
    "version": 3
   },
   "file_extension": ".py",
   "mimetype": "text/x-python",
   "name": "python",
   "nbconvert_exporter": "python",
   "pygments_lexer": "ipython3",
   "version": "3.7.3"
  }
 },
 "nbformat": 4,
 "nbformat_minor": 2
}
